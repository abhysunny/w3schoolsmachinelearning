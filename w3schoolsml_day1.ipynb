{
 "cells": [
  {
   "cell_type": "code",
   "execution_count": 25,
   "metadata": {},
   "outputs": [
    {
     "name": "stdout",
     "output_type": "stream",
     "text": [
      "mean value is 69.375\n",
      "median value is 65.0\n",
      "mode value is ModeResult(mode=array([60]), count=array([2]))\n"
     ]
    }
   ],
   "source": [
    "#Progrm to find mean, median and mod\n",
    "\n",
    "import numpy\n",
    "from scipy import stats\n",
    "\n",
    "\n",
    "marks = [45,60,63,60,73,67,88,99]\n",
    "\n",
    "x = numpy.mean(marks)\n",
    "y = numpy.median(marks)\n",
    "z = stats.mode(marks)\n",
    "\n",
    "print (\"mean value is \" + str(x))\n",
    "print (\"median value is \" + str(y))\n",
    "print (\"mode value is \" + str(z))\n"
   ]
  },
  {
   "cell_type": "code",
   "execution_count": null,
   "metadata": {},
   "outputs": [],
   "source": []
  },
  {
   "cell_type": "code",
   "execution_count": null,
   "metadata": {},
   "outputs": [],
   "source": []
  }
 ],
 "metadata": {
  "kernelspec": {
   "display_name": "Python 3",
   "language": "python",
   "name": "python3"
  },
  "language_info": {
   "codemirror_mode": {
    "name": "ipython",
    "version": 3
   },
   "file_extension": ".py",
   "mimetype": "text/x-python",
   "name": "python",
   "nbconvert_exporter": "python",
   "pygments_lexer": "ipython3",
   "version": "3.7.9"
  }
 },
 "nbformat": 4,
 "nbformat_minor": 4
}
